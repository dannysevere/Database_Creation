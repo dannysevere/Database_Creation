{
 "cells": [
  {
   "cell_type": "code",
   "execution_count": 1,
   "id": "8bcf7091",
   "metadata": {},
   "outputs": [],
   "source": [
    "#1 Danny Severe"
   ]
  },
  {
   "cell_type": "code",
   "execution_count": 2,
   "id": "e379d85b",
   "metadata": {},
   "outputs": [],
   "source": [
    "#2 CREATE DATABASE corgirace;"
   ]
  },
  {
   "cell_type": "code",
   "execution_count": 3,
   "id": "fcd5fb94",
   "metadata": {},
   "outputs": [],
   "source": [
    "# pip install psycopg2-binary"
   ]
  },
  {
   "cell_type": "code",
   "execution_count": 4,
   "id": "b41cca1b",
   "metadata": {},
   "outputs": [],
   "source": [
    "#3\n",
    "\n",
    "import pandas as pd\n",
    "import psycopg2 as psy\n",
    "import warnings\n",
    "\n",
    "warnings.filterwarnings(\"ignore\")\n",
    "\n",
    "conn = psy.connect(database='corgirace', \\\n",
    "                   user='dannysevere', \\\n",
    "                   password='Severedb!', \\\n",
    "                   host='severedb.ct4e9f3blg2v.us-west-1.rds.amazonaws.com', \\\n",
    "                   port='5432')\n",
    "\n",
    "cursor = conn.cursor()\n",
    "\n",
    "query = '''CREATE TABLE IF NOT EXISTS CORGI (\n",
    "            CorgID SERIAL PRIMARY KEY,\n",
    "            CorgName VARCHAR(30) NOT NULL,\n",
    "            Breed VARCHAR(5) NOT NULL,\n",
    "            Gender VARCHAR(2) NOT NULL,\n",
    "            Weight SMALLINT NOT NULL,\n",
    "            Age NUMERIC(2, 1) NOT NULL);'''\n",
    "\n",
    "cursor.execute(query)\n",
    "conn.commit()\n"
   ]
  },
  {
   "cell_type": "code",
   "execution_count": 5,
   "id": "52671874",
   "metadata": {},
   "outputs": [],
   "source": [
    "query = '''CREATE TABLE IF NOT EXISTS OUTCOME (\n",
    "            OutcomeID SERIAL PRIMARY KEY,\n",
    "            CorgID INT NOT NULL,\n",
    "            RaceID INT NOT NULL,\n",
    "            RaceTime NUMERIC(4,2)\n",
    "            );'''\n",
    "\n",
    "cursor.execute(query)\n",
    "conn.commit()"
   ]
  },
  {
   "cell_type": "code",
   "execution_count": 6,
   "id": "5b34ce05",
   "metadata": {},
   "outputs": [],
   "source": [
    "query = '''CREATE TABLE IF NOT EXISTS RACE (\n",
    "            RaceID SERIAL PRIMARY KEY,\n",
    "            RaceName VARCHAR(50) NOT NULL,\n",
    "            RaceState CHAR(2),\n",
    "            RaceDate DATE,\n",
    "            RaceTemp SMALLINT\n",
    "            );'''\n",
    "\n",
    "cursor.execute(query)\n",
    "conn.commit()"
   ]
  },
  {
   "cell_type": "code",
   "execution_count": 7,
   "id": "33190b46",
   "metadata": {},
   "outputs": [],
   "source": [
    "#4\n",
    "\n",
    "df = pd.read_csv('Documents/python/corgi.csv')\n",
    "\n",
    "for x in df.index:\n",
    "    cursor.execute(f'''\n",
    "    INSERT INTO CORGI (CorgName, Breed, Gender, Weight, Age)\n",
    "    VALUES ('{df.loc[x]['CorgName']}', '{df.loc[x]['Breed']}', '{df.loc[x]['Gender']}', {df.loc[x]['Weight']}, {df.loc[x]['Age']});''')\n",
    "    \n",
    "    conn.commit()"
   ]
  },
  {
   "cell_type": "code",
   "execution_count": 8,
   "id": "96183a71",
   "metadata": {},
   "outputs": [
    {
     "name": "stdout",
     "output_type": "stream",
     "text": [
      "   corgid                   corgname breed gender  weight  age\n",
      "0      34  Baroness von Fluffyshanks   Pem     SF      22  4.0\n",
      "1      84  Baroness von Fluffyshanks   Pem     SF      22  4.0\n",
      "2     109  Baroness von Fluffyshanks   Pem     SF      22  4.0\n",
      "3      59  Baroness von Fluffyshanks   Pem     SF      22  4.0\n",
      "4       9  Baroness von Fluffyshanks   Pem     SF      22  4.0\n",
      "5      26                    Brookie   Pem      F      21  3.5\n",
      "6      51                    Brookie   Pem      F      21  3.5\n",
      "7     101                    Brookie   Pem      F      21  3.5\n",
      "8       1                    Brookie   Pem      F      21  3.5\n",
      "9      76                    Brookie   Pem      F      21  3.5\n"
     ]
    }
   ],
   "source": [
    "#5\n",
    "\n",
    "query = '''SELECT *\n",
    "            FROM CORGI\n",
    "            ORDER BY CorgName\n",
    "            LIMIT 10\n",
    "            ;'''\n",
    "\n",
    "df = pd.read_sql(query, conn)\n",
    "\n",
    "print(df)"
   ]
  },
  {
   "cell_type": "code",
   "execution_count": 9,
   "id": "ce126917",
   "metadata": {},
   "outputs": [],
   "source": [
    "#6\n",
    "\n",
    "df = pd.read_csv('Documents/python/race.csv')\n",
    "\n",
    "for x in df.index:\n",
    "    cursor.execute(f'''\n",
    "    INSERT INTO RACE (RaceName, RaceState, RaceDate, RaceTemp)\n",
    "    VALUES ('{df.loc[x]['RaceName']}', '{df.loc[x]['RaceState']}', '{df.loc[x]['RaceDate']}', {df.loc[x]['RaceTemp']});''')\n",
    "    \n",
    "    conn.commit()"
   ]
  },
  {
   "cell_type": "code",
   "execution_count": 10,
   "id": "98ac4d54",
   "metadata": {},
   "outputs": [
    {
     "name": "stdout",
     "output_type": "stream",
     "text": [
      "   raceid         racename racestate    racedate  racetemp\n",
      "0      12   Del Mar Trophy        CA  2018-06-03        80\n",
      "1       1   Del Mar Trophy        CA  2018-06-03        80\n",
      "2       2   Memorial Derby        WA  2018-06-17        77\n",
      "3      13   Memorial Derby        WA  2018-06-17        77\n",
      "4       3      Dixie Derby        UT  2018-06-24        95\n",
      "5      14      Dixie Derby        UT  2018-06-24        95\n",
      "6      15     Missions Cup        CA  2018-06-30        73\n",
      "7       4     Missions Cup        CA  2018-06-30        73\n",
      "8       5  Borderside Dash        WA  2018-07-21        74\n",
      "9      16  Borderside Dash        WA  2018-07-21        74\n"
     ]
    }
   ],
   "source": [
    "#7\n",
    "\n",
    "query = '''SELECT *\n",
    "            FROM RACE\n",
    "            ORDER BY RaceDate\n",
    "            LIMIT 10\n",
    "            ;'''\n",
    "\n",
    "df = pd.read_sql(query, conn)\n",
    "\n",
    "print(df)\n"
   ]
  },
  {
   "cell_type": "code",
   "execution_count": 11,
   "id": "a63abd92",
   "metadata": {},
   "outputs": [],
   "source": [
    "#8\n",
    "\n",
    "df = pd.read_csv('Documents/python/outcome.csv')\n",
    "\n",
    "for x in df.index:\n",
    "    cursor.execute(f'''\n",
    "    INSERT INTO OUTCOME (CorgID, RaceID, RaceTime)\n",
    "    VALUES ({df.loc[x]['CorgID']}, {df.loc[x]['RaceID']}, {df.loc[x]['RaceTime']});''')\n",
    "    \n",
    "    conn.commit()\n"
   ]
  },
  {
   "cell_type": "code",
   "execution_count": 14,
   "id": "6ac8f5cb",
   "metadata": {},
   "outputs": [
    {
     "name": "stdout",
     "output_type": "stream",
     "text": [
      "   outcomeid  corgid  raceid  racetime\n",
      "0        116      14      10     40.07\n",
      "1        250      14      10     40.07\n",
      "2        123       4      11     40.10\n",
      "3        257       4      11     40.10\n",
      "4         45      21       4     40.73\n",
      "5        179      21       4     40.73\n",
      "6         28       9       3     40.74\n",
      "7        162       9       3     40.74\n",
      "8        161       8       3     40.94\n",
      "9         27       8       3     40.94\n"
     ]
    }
   ],
   "source": [
    "#9\n",
    "\n",
    "query = '''SELECT *\n",
    "            FROM OUTCOME\n",
    "            ORDER BY RaceTime\n",
    "            LIMIT 10\n",
    "            ;'''\n",
    "\n",
    "df = pd.read_sql(query, conn)\n",
    "\n",
    "print(df)"
   ]
  }
 ],
 "metadata": {
  "kernelspec": {
   "display_name": "Python 3 (ipykernel)",
   "language": "python",
   "name": "python3"
  },
  "language_info": {
   "codemirror_mode": {
    "name": "ipython",
    "version": 3
   },
   "file_extension": ".py",
   "mimetype": "text/x-python",
   "name": "python",
   "nbconvert_exporter": "python",
   "pygments_lexer": "ipython3",
   "version": "3.11.5"
  }
 },
 "nbformat": 4,
 "nbformat_minor": 5
}
